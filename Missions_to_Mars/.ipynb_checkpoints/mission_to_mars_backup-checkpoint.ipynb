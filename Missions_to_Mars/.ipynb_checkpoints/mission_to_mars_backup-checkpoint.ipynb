{
 "cells": [
  {
   "cell_type": "markdown",
   "metadata": {},
   "source": [
    "# Using Web Scraping to Deliver the News About Mars\n",
    "#### This notebook will provide the following information:\n",
    "* NASA Mars News\n",
    "* JPL Mars Space Images\n",
    "* Mars Weather\n",
    "* Mars Facts\n",
    "* Mars Hemispheres"
   ]
  },
  {
   "cell_type": "code",
   "execution_count": 1,
   "metadata": {},
   "outputs": [],
   "source": [
    "# Dependencies\n",
    "import pymongo\n",
    "import os\n",
    "import requests\n",
    "from bs4 import BeautifulSoup as bs\n",
    "from splinter import Browser "
   ]
  },
  {
   "cell_type": "markdown",
   "metadata": {},
   "source": [
    "#### Setting up Mongo Database for Mars News"
   ]
  },
  {
   "cell_type": "code",
   "execution_count": 2,
   "metadata": {},
   "outputs": [],
   "source": [
    "# Connect to MongoDB default port\n",
    "conn = 'mongodb://localhost:27017'\n",
    "client = pymongo.MongoClient(conn)\n",
    "\n",
    "# Defining 'MarsDB' database and collection\n",
    "mars_db = client.marsDB\n",
    "collection = mars_db.articles"
   ]
  },
  {
   "cell_type": "markdown",
   "metadata": {},
   "source": [
    "#### URLs of Webpages to be Scraped"
   ]
  },
  {
   "cell_type": "code",
   "execution_count": 3,
   "metadata": {},
   "outputs": [],
   "source": [
    "# Mars urls\n",
    "news_url = 'https://mars.nasa.gov/news/?page=0&per_page=40&order=publish_date+desc%2Ccreated_at+desc&search=&category=19%2C165%2C184%2C204&blank_scope=Latest'\n",
    "jpl_url = 'https://www.jpl.nasa.gov/spaceimages/details.php?id=PIA18904'\n",
    "weather_url = 'https://twitter.com/marswxreport?lang=en'\n",
    "facts_url = 'https://space-facts.com/mars/'\n",
    "hemi_url = 'https://astrogeology.usgs.gov/search/results?q=hemisphere+enhanced&k1=target&v1=Mars'"
   ]
  },
  {
   "cell_type": "code",
   "execution_count": 4,
   "metadata": {},
   "outputs": [],
   "source": [
    "# Retrieve pages with the requests module\n",
    "news_response = requests.get(news_url)\n",
    "jpl_response = requests.get(jpl_url)\n",
    "weather_response = requests.get(weather_url)\n",
    "facts_response = requests.get(facts_url)\n",
    "hemi_response = requests.get(hemi_url)"
   ]
  },
  {
   "cell_type": "code",
   "execution_count": 5,
   "metadata": {},
   "outputs": [],
   "source": [
    "# Beautiful Soup objects\n",
    "news_soup = bs(news_response.text, 'html.parser')\n",
    "jpl_soup = bs(jpl_response.text, 'html.parser')\n",
    "weather_soup = bs(weather_response.text, 'html.parser')\n",
    "facts_soup = bs(facts_response.text, 'html.parser')\n",
    "hemi_soup = bs(hemi_response.text, 'html.parser')"
   ]
  },
  {
   "cell_type": "markdown",
   "metadata": {},
   "source": [
    "#### Examining results before determining elements that contain sought info"
   ]
  },
  {
   "cell_type": "code",
   "execution_count": 6,
   "metadata": {},
   "outputs": [],
   "source": [
    "# Uncomment to examine results\n",
    "\n",
    "# print(news_soup.prettify())\n",
    "# print(jpl_soup.prettify())\n",
    "# print(weather_soup.prettify())\n",
    "# print(facts_soup.prettify())\n",
    "# print(hemi_soup.prettify())"
   ]
  },
  {
   "cell_type": "markdown",
   "metadata": {},
   "source": [
    "## NASA Mars News\n",
    "#### Latest news and paragraph text from the NASA Mars News Site."
   ]
  },
  {
   "cell_type": "code",
   "execution_count": 54,
   "metadata": {},
   "outputs": [
    {
     "name": "stdout",
     "output_type": "stream",
     "text": [
      "\n",
      "\n",
      "NASA Prepares for Moon and Mars With New Addition to Its Deep Space Network\n",
      "\n",
      "\n"
     ]
    }
   ],
   "source": [
    "# Determining elements that contain sought info; Retrieving parent divs\n",
    "news_results = news_soup.find_all('div', class_='content_title')\n",
    "news_title = news_results[0].text\n",
    "print(news_title)"
   ]
  },
  {
   "cell_type": "code",
   "execution_count": null,
   "metadata": {},
   "outputs": [],
   "source": [
    "# Loop through returned results\n",
    "for result in news_results:\n",
    "    \n",
    "    # Retrieve news title\n",
    "    news_title = result.find('div', class_='list_date')\n",
    "    \n",
    "    # Access thread's text content\n",
    "#     news_p = news_title.a.text\n",
    "#     print(news_p)\n",
    "    \n",
    "    # Dictionary to be inserted into MongoDB\n",
    "    post = {\n",
    "        'Title': news_title,\n",
    "#         'Text': news_p, \n",
    "    }\n",
    "    \n",
    "    # Insert dictionary into MongoDB as a document\n",
    "    collection.insert_one(post)"
   ]
  },
  {
   "cell_type": "markdown",
   "metadata": {},
   "source": [
    "## JPL Mars Space Images\n",
    "#### Featured image from JPL's Mars programme."
   ]
  },
  {
   "cell_type": "code",
   "execution_count": 18,
   "metadata": {},
   "outputs": [],
   "source": [
    "# Using Splinter to navigate site and find image url \n",
    "executable_path = {'executable_path': 'chromedriver.exe'}\n",
    "browser = Browser('chrome', **executable_path, headless=False)\n",
    "\n",
    "browser.visit(jpl_url)\n",
    "html = browser.html\n",
    "jpl_soup = bs(html, 'html.parser')\n",
    "url_prefix = 'https://www.jps.nasa.gov'"
   ]
  },
  {
   "cell_type": "code",
   "execution_count": 19,
   "metadata": {},
   "outputs": [
    {
     "data": {
      "text/plain": [
       "'https://www.jps.nasa.gov/spaceimages/images/largesize/PIA18904_hires.jpg'"
      ]
     },
     "execution_count": 19,
     "metadata": {},
     "output_type": "execute_result"
    }
   ],
   "source": [
    "images_a = jpl_soup.find('figure', class_='lede')\n",
    "images_b = images_a.find('a')['href']\n",
    "\n",
    "featured_image_url = url_prefix + images_b\n",
    "featured_image_url"
   ]
  },
  {
   "cell_type": "markdown",
   "metadata": {},
   "source": [
    "## Mars Weather\n",
    "#### Mars weather report tweet from Mars Weather twitter account."
   ]
  },
  {
   "cell_type": "code",
   "execution_count": 62,
   "metadata": {},
   "outputs": [],
   "source": [
    "# Dependency\n",
    "import sys\n",
    "\n",
    "# Using Splinter to navigate site and find image url\n",
    "executable_path = {'executable_path': 'chromedriver.exe'}\n",
    "browser = Browser('chrome', **executable_path, headless=False)\n",
    "\n",
    "browser.visit(weather_url)\n",
    "html = browser.html\n",
    "weather_soup = bs(html, 'html.parser')"
   ]
  },
  {
   "cell_type": "code",
   "execution_count": 63,
   "metadata": {},
   "outputs": [],
   "source": [
    "tweets = weather_soup.find_all('div', {'class': 'css-1dbjc4n'})"
   ]
  },
  {
   "cell_type": "code",
   "execution_count": 70,
   "metadata": {},
   "outputs": [
    {
     "name": "stdout",
     "output_type": "stream",
     "text": [
      "<function get_mars_tweets at 0x000001C3F6331950>\n"
     ]
    }
   ],
   "source": [
    "def get_mars_tweets(weather_soup):\n",
    "    tweet_list = list()\n",
    "    tweets = weather_soup.find_all('div', {'class': 'css-1dbjc4n'})\n",
    "    for tweet in tweets:\n",
    "        tweet_data = None\n",
    "        try:\n",
    "            tweet_data = get_tweet_text(tweet)\n",
    "        except Exception as e:\n",
    "            continue\n",
    "            \n",
    "        if tweet_data:\n",
    "            tweets_list.append(tweet_data)\n",
    "            print('.', end='')\n",
    "            sys.stdout.flush()\n",
    "            \n",
    "    return tweets_list\n",
    "\n",
    "print(get_mars_tweets)"
   ]
  },
  {
   "cell_type": "markdown",
   "metadata": {},
   "source": [
    "## Mars Facts\n",
    "#### General facts about the \"Red Planet.\""
   ]
  },
  {
   "cell_type": "code",
   "execution_count": 88,
   "metadata": {},
   "outputs": [],
   "source": [
    "# Dependency\n",
    "import urllib\n",
    "import pandas as pd"
   ]
  },
  {
   "cell_type": "code",
   "execution_count": 122,
   "metadata": {},
   "outputs": [
    {
     "name": "stdout",
     "output_type": "stream",
     "text": [
      "[{'Equatorial Diameter:', '6,792 km'}, {'Polar Diameter:', '6,752 km'}, {'Mass:', '6.39 × 10^23 kg (0.11 Earths)'}, {'Moons:', '2 (Phobos & Deimos)'}, {'Orbit Distance:', '227,943,824 km (1.38 AU)'}, {'Orbit Period:', '687 days (1.9 years)'}, {'Surface Temperature: ', '-87 to -5 °C'}, {'First Record:', '2nd millennium BC'}]\n"
     ]
    }
   ],
   "source": [
    "# Function to loop over all rows for 'tr' tag to obtain text of 'td' cells\n",
    "mars_facts = []\n",
    "\n",
    "def get_mars_facts():\n",
    "    \"\"\"Finds all 'tr' tags and assigns them to a variable.\"\"\"\n",
    "    facts = facts_soup.find_all('tr')[:8]\n",
    "    for tr in facts:\n",
    "        \"\"\"Finds all 'td' tags within each 'tr' tag and assigns it to a variable. Then appends to\n",
    "        a list.\"\"\"\n",
    "        tds = tr.find_all('td')[:8]\n",
    "        mars_facts.append({\n",
    "            tds[0].text, tds[1].text,\n",
    "        })\n",
    "    print(mars_facts)\n",
    "\n",
    "get_mars_facts()"
   ]
  },
  {
   "cell_type": "code",
   "execution_count": 92,
   "metadata": {},
   "outputs": [
    {
     "data": {
      "text/html": [
       "<div>\n",
       "<style scoped>\n",
       "    .dataframe tbody tr th:only-of-type {\n",
       "        vertical-align: middle;\n",
       "    }\n",
       "\n",
       "    .dataframe tbody tr th {\n",
       "        vertical-align: top;\n",
       "    }\n",
       "\n",
       "    .dataframe thead th {\n",
       "        text-align: right;\n",
       "    }\n",
       "</style>\n",
       "<table border=\"1\" class=\"dataframe\">\n",
       "  <thead>\n",
       "    <tr style=\"text-align: right;\">\n",
       "      <th></th>\n",
       "      <th>0</th>\n",
       "      <th>1</th>\n",
       "    </tr>\n",
       "  </thead>\n",
       "  <tbody>\n",
       "    <tr>\n",
       "      <th>0</th>\n",
       "      <td>Equatorial Diameter:</td>\n",
       "      <td>6,792 km</td>\n",
       "    </tr>\n",
       "    <tr>\n",
       "      <th>1</th>\n",
       "      <td>Polar Diameter:</td>\n",
       "      <td>6,752 km</td>\n",
       "    </tr>\n",
       "    <tr>\n",
       "      <th>2</th>\n",
       "      <td>Mass:</td>\n",
       "      <td>6.39 × 10^23 kg (0.11 Earths)</td>\n",
       "    </tr>\n",
       "    <tr>\n",
       "      <th>3</th>\n",
       "      <td>Moons:</td>\n",
       "      <td>2 (Phobos &amp; Deimos)</td>\n",
       "    </tr>\n",
       "    <tr>\n",
       "      <th>4</th>\n",
       "      <td>Orbit Distance:</td>\n",
       "      <td>227,943,824 km (1.38 AU)</td>\n",
       "    </tr>\n",
       "    <tr>\n",
       "      <th>5</th>\n",
       "      <td>Orbit Period:</td>\n",
       "      <td>687 days (1.9 years)</td>\n",
       "    </tr>\n",
       "    <tr>\n",
       "      <th>6</th>\n",
       "      <td>Surface Temperature:</td>\n",
       "      <td>-87 to -5 °C</td>\n",
       "    </tr>\n",
       "    <tr>\n",
       "      <th>7</th>\n",
       "      <td>First Record:</td>\n",
       "      <td>2nd millennium BC</td>\n",
       "    </tr>\n",
       "  </tbody>\n",
       "</table>\n",
       "</div>"
      ],
      "text/plain": [
       "                       0                              1\n",
       "0   Equatorial Diameter:                       6,792 km\n",
       "1        Polar Diameter:                       6,752 km\n",
       "2                  Mass:  6.39 × 10^23 kg (0.11 Earths)\n",
       "3                 Moons:            2 (Phobos & Deimos)\n",
       "4        Orbit Distance:       227,943,824 km (1.38 AU)\n",
       "5          Orbit Period:           687 days (1.9 years)\n",
       "6  Surface Temperature:                    -87 to -5 °C\n",
       "7          First Record:              2nd millennium BC"
      ]
     },
     "execution_count": 92,
     "metadata": {},
     "output_type": "execute_result"
    }
   ],
   "source": [
    "facts_df = pd.DataFrame(mars_facts)\n",
    "facts_df"
   ]
  },
  {
   "cell_type": "code",
   "execution_count": 98,
   "metadata": {},
   "outputs": [
    {
     "name": "stdout",
     "output_type": "stream",
     "text": [
      "<table border=\"1\" class=\"dataframe\">\n",
      "  <thead>\n",
      "    <tr style=\"text-align: right;\">\n",
      "      <th></th>\n",
      "      <th>0</th>\n",
      "      <th>1</th>\n",
      "    </tr>\n",
      "  </thead>\n",
      "  <tbody>\n",
      "    <tr>\n",
      "      <th>0</th>\n",
      "      <td>Equatorial Diameter:</td>\n",
      "      <td>6,792 km</td>\n",
      "    </tr>\n",
      "    <tr>\n",
      "      <th>1</th>\n",
      "      <td>Polar Diameter:</td>\n",
      "      <td>6,752 km</td>\n",
      "    </tr>\n",
      "    <tr>\n",
      "      <th>2</th>\n",
      "      <td>Mass:</td>\n",
      "      <td>6.39 × 10^23 kg (0.11 Earths)</td>\n",
      "    </tr>\n",
      "    <tr>\n",
      "      <th>3</th>\n",
      "      <td>Moons:</td>\n",
      "      <td>2 (Phobos &amp; Deimos)</td>\n",
      "    </tr>\n",
      "    <tr>\n",
      "      <th>4</th>\n",
      "      <td>Orbit Distance:</td>\n",
      "      <td>227,943,824 km (1.38 AU)</td>\n",
      "    </tr>\n",
      "    <tr>\n",
      "      <th>5</th>\n",
      "      <td>Orbit Period:</td>\n",
      "      <td>687 days (1.9 years)</td>\n",
      "    </tr>\n",
      "    <tr>\n",
      "      <th>6</th>\n",
      "      <td>Surface Temperature:</td>\n",
      "      <td>-87 to -5 °C</td>\n",
      "    </tr>\n",
      "    <tr>\n",
      "      <th>7</th>\n",
      "      <td>First Record:</td>\n",
      "      <td>2nd millennium BC</td>\n",
      "    </tr>\n",
      "  </tbody>\n",
      "</table>\n"
     ]
    }
   ],
   "source": [
    "# Render pandas dataframe to html table\n",
    "facts_html = facts_df.to_html()\n",
    "print(facts_html)"
   ]
  },
  {
   "cell_type": "markdown",
   "metadata": {},
   "source": [
    "## Mars Hemispheres\n",
    "#### High resolution photos for each of Mars' hemispheres."
   ]
  },
  {
   "cell_type": "code",
   "execution_count": 99,
   "metadata": {},
   "outputs": [],
   "source": [
    "# Using Splinter to navigate site and find image url \n",
    "executable_path = {'executable_path': 'chromedriver.exe'}\n",
    "browser = Browser('chrome', **executable_path, headless=False)\n",
    "\n",
    "browser.visit(hemi_url)\n",
    "html = browser.html\n",
    "hemi_soup = bs(html, 'html.parser')"
   ]
  },
  {
   "cell_type": "code",
   "execution_count": 174,
   "metadata": {},
   "outputs": [
    {
     "name": "stdout",
     "output_type": "stream",
     "text": [
      "['https://astrogeology.usgs.gov/search/map/Mars/Viking/cerberus_enhanced', 'https://astrogeology.usgs.gov/search/map/Mars/Viking/schiaparelli_enhanced', 'https://astrogeology.usgs.gov/search/map/Mars/Viking/syrtis_major_enhanced', 'https://astrogeology.usgs.gov/search/map/Mars/Viking/valles_marineris_enhanced']\n"
     ]
    }
   ],
   "source": [
    "# Empty list to store hemisphere urls\n",
    "hemisphere_urls = []\n",
    "hemi_url_prefix = 'https://astrogeology.usgs.gov'\n",
    "\n",
    "def get_hemi_urls(hemi_soup):\n",
    "    \"\"\"Querying through html code to find image url suffixes\"\"\"\n",
    "    containers = hemi_soup.find('div', {'class': 'container'})\n",
    "    items = containers.find_all('div', {'class': 'item'})\n",
    "    \n",
    "    for item in items:\n",
    "        \"\"\"Joining image url strings and hemisphere titles to a list.\"\"\"\n",
    "        hemi_url = hemi_url_prefix + item.find('a')['href']\n",
    "#         hemi_url = hemi_url_prefix + item.find('img')['src']\n",
    "#         h3 = item.find('h3')\n",
    "#         hemisphere_urls.append({'Title': h3.text, 'img_url': hemi_url})\n",
    "        hemisphere_urls.append(hemi_url)\n",
    "        \n",
    "    print(hemisphere_urls)\n",
    "\n",
    "hemi_urls = get_hemi_urls(hemi_soup)\n",
    "hemi_urls"
   ]
  },
  {
   "cell_type": "code",
   "execution_count": 176,
   "metadata": {},
   "outputs": [
    {
     "data": {
      "text/plain": [
       "['https://astrogeology.usgs.gov/search/map/Mars/Viking/cerberus_enhanced',\n",
       " 'https://astrogeology.usgs.gov/search/map/Mars/Viking/schiaparelli_enhanced',\n",
       " 'https://astrogeology.usgs.gov/search/map/Mars/Viking/syrtis_major_enhanced',\n",
       " 'https://astrogeology.usgs.gov/search/map/Mars/Viking/valles_marineris_enhanced']"
      ]
     },
     "execution_count": 176,
     "metadata": {},
     "output_type": "execute_result"
    }
   ],
   "source": [
    "# For verification\n",
    "hemisphere_urls"
   ]
  },
  {
   "cell_type": "code",
   "execution_count": 232,
   "metadata": {},
   "outputs": [
    {
     "name": "stdout",
     "output_type": "stream",
     "text": [
      "[{'title': 'Cerberus Hemisphere Enhanced', 'img_url': 'http://astropedia.astrogeology.usgs.gov/download/Mars/Viking/cerberus_enhanced.tif/full.jpg'}, {'title': 'Schiaparelli Hemisphere Enhanced', 'img_url': 'http://astropedia.astrogeology.usgs.gov/download/Mars/Viking/schiaparelli_enhanced.tif/full.jpg'}, {'title': 'Syrtis Major Hemisphere Enhanced', 'img_url': 'http://astropedia.astrogeology.usgs.gov/download/Mars/Viking/syrtis_major_enhanced.tif/full.jpg'}, {'title': 'Valles Marineris Hemisphere Enhanced', 'img_url': 'http://astropedia.astrogeology.usgs.gov/download/Mars/Viking/valles_marineris_enhanced.tif/full.jpg'}]\n"
     ]
    }
   ],
   "source": [
    "# Empty list to store image urls\n",
    "hemisphere_image_urls = []\n",
    "links = hemisphere_urls\n",
    "\n",
    "executable_path = {'executable_path': 'chromedriver.exe'}\n",
    "browser = Browser('chrome', **executable_path, headless=False)\n",
    "\n",
    "for link in links:\n",
    "    browser.visit(link)\n",
    "    html = browser.html\n",
    "    soup = bs(html, 'html.parser')\n",
    "    \n",
    "    \"\"\"Querying each link to find each full resolution image url and its respective title.\"\"\"\n",
    "    containers = soup.find('div', {'class': 'container'})\n",
    "    \n",
    "    \"\"\"Searching for urls.\"\"\"\n",
    "    downloads = containers.find('div', {'class': 'downloads'})\n",
    "    uls = downloads.find('ul')\n",
    "    lis = uls.find_all('li')[0]\n",
    "    a = lis.find('a')['href']\n",
    "    \n",
    "    \"\"\"Searching for titles.\"\"\"\n",
    "    contents = containers.find('div', {'class': 'content'})\n",
    "    h2 = contents.find('h2', {'class': 'title'})\n",
    "    \n",
    "    hemisphere_image_urls.append({'title': h2.text,\n",
    "                                  'img_url': a})\n",
    "print(hemisphere_image_urls)"
   ]
  },
  {
   "cell_type": "code",
   "execution_count": null,
   "metadata": {},
   "outputs": [],
   "source": []
  }
 ],
 "metadata": {
  "kernelspec": {
   "display_name": "Python 3",
   "language": "python",
   "name": "python3"
  },
  "language_info": {
   "codemirror_mode": {
    "name": "ipython",
    "version": 3
   },
   "file_extension": ".py",
   "mimetype": "text/x-python",
   "name": "python",
   "nbconvert_exporter": "python",
   "pygments_lexer": "ipython3",
   "version": "3.7.3"
  }
 },
 "nbformat": 4,
 "nbformat_minor": 4
}
