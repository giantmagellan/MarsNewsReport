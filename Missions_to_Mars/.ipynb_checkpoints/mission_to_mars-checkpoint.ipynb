{
 "cells": [
  {
   "cell_type": "markdown",
   "metadata": {},
   "source": [
    "# Using Web Scraping to Deliver the News About Mars\n",
    "#### This notebook will provide the following information:\n",
    "* NASA Mars News\n",
    "* JPL Mars Space Images\n",
    "* Mars Weather\n",
    "* Mars Facts\n",
    "* Mars Hemispheres"
   ]
  },
  {
   "cell_type": "code",
   "execution_count": 1,
   "metadata": {},
   "outputs": [],
   "source": [
    "# Dependencies\n",
    "import pymongo\n",
    "import os\n",
    "import requests\n",
    "from bs4 import BeautifulSoup as bs\n",
    "from splinter import Browser "
   ]
  },
  {
   "cell_type": "markdown",
   "metadata": {},
   "source": [
    "#### Setting up Mongo Database for Mars News"
   ]
  },
  {
   "cell_type": "code",
   "execution_count": 2,
   "metadata": {},
   "outputs": [],
   "source": [
    "# Connect to MongoDB default port\n",
    "conn = 'mongodb://localhost:27017'\n",
    "client = pymongo.MongoClient(conn)\n",
    "\n",
    "# Defining 'MarsDB' database and collection\n",
    "mars_db = client.marsDB\n",
    "collection = mars_db.articles"
   ]
  },
  {
   "cell_type": "markdown",
   "metadata": {},
   "source": [
    "#### URLs of Webpages to be Scraped"
   ]
  },
  {
   "cell_type": "code",
   "execution_count": 28,
   "metadata": {},
   "outputs": [],
   "source": [
    "# Mars urls\n",
    "news_url = 'https://mars.nasa.gov/news/?page=0&per_page=40&order=publish_date+desc%2Ccreated_at+desc&search=&category=19%2C165%2C184%2C204&blank_scope=Latest'\n",
    "jpl_url = 'https://www.jpl.nasa.gov/spaceimages/?search=&category=Mars'\n",
    "weather_url = 'https://twitter.com/marswxreport?lang=en'\n",
    "facts_url = 'https://space-facts.com/mars/'\n",
    "hemi_url = 'https://astrogeology.usgs.gov/search/results?q=hemisphere+enhanced&k1=target&v1=Mars'"
   ]
  },
  {
   "cell_type": "code",
   "execution_count": 29,
   "metadata": {},
   "outputs": [],
   "source": [
    "# Retrieve pages with the requests module\n",
    "news_response = requests.get(news_url)\n",
    "jpl_response = requests.get(jpl_url)\n",
    "weather_response = requests.get(weather_url)\n",
    "facts_response = requests.get(facts_url)\n",
    "hemi_response = requests.get(hemi_url)"
   ]
  },
  {
   "cell_type": "code",
   "execution_count": 35,
   "metadata": {},
   "outputs": [
    {
     "data": {
      "text/plain": [
       "bs4.BeautifulSoup"
      ]
     },
     "execution_count": 35,
     "metadata": {},
     "output_type": "execute_result"
    }
   ],
   "source": [
    "# Beautiful Soup objects\n",
    "news_soup = bs(news_response.text, 'html.parser')\n",
    "jpl_soup = bs(jpl_response.text, 'html.parser')\n",
    "weather_soup = bs(weather_response.text, 'html.parser')\n",
    "facts_soup = bs(facts_response.text, 'html.parser')\n",
    "hemi_soup = bs(hemi_response.text, 'html.parser')"
   ]
  },
  {
   "cell_type": "markdown",
   "metadata": {},
   "source": [
    "#### Examining results before determining elements that contain sought info"
   ]
  },
  {
   "cell_type": "code",
   "execution_count": 31,
   "metadata": {},
   "outputs": [],
   "source": [
    "# Uncomment to examine results\n",
    "\n",
    "# print(news_soup.prettify())\n",
    "# print(jpl_soup.prettify())\n",
    "# print(weather_soup.prettify())\n",
    "# print(facts_soup.prettify())\n",
    "# print(hemi_soup.prettify())"
   ]
  },
  {
   "cell_type": "markdown",
   "metadata": {},
   "source": [
    "## NASA Mars News\n",
    "#### Latest news and paragraph text from the NASA Mars News Site."
   ]
  },
  {
   "cell_type": "code",
   "execution_count": 32,
   "metadata": {},
   "outputs": [
    {
     "data": {
      "text/plain": [
       "'\\n\\nNASA Prepares for Moon and Mars With New Addition to Its Deep Space Network\\n\\n'"
      ]
     },
     "execution_count": 32,
     "metadata": {},
     "output_type": "execute_result"
    }
   ],
   "source": [
    "# Determining elements that contain sought info; Retrieving parent divs\n",
    "news_var_1 = news_soup.find('div', class_='content_title')\n",
    "news_var_2 = news_var_1.find('div', class_='article_teaser_body')\n",
    "\n",
    "news_var_1.text"
   ]
  },
  {
   "cell_type": "code",
   "execution_count": 34,
   "metadata": {},
   "outputs": [
    {
     "data": {
      "text/plain": [
       "[]"
      ]
     },
     "execution_count": 34,
     "metadata": {},
     "output_type": "execute_result"
    }
   ],
   "source": [
    "# news_1 = news_soup.select_one('#content_title')\n",
    "title = news_soup.find_all('div', class_='list_date')\n",
    "# paragraph = news_soup.find('div', class_='article_teaser_body').get_text()\n",
    "title"
   ]
  },
  {
   "cell_type": "code",
   "execution_count": 68,
   "metadata": {},
   "outputs": [],
   "source": [
    "# Loop through returned results\n",
    "for result in news_results:\n",
    "    \n",
    "    # Retrieve news title\n",
    "    news_title = result.find('div', class_='list_date')\n",
    "    \n",
    "    # Access thread's text content\n",
    "#     news_p = news_title.a.text\n",
    "#     print(news_p)\n",
    "    \n",
    "    # Dictionary to be inserted into MongoDB\n",
    "    post = {\n",
    "        'Title': news_title,\n",
    "#         'Text': news_p, \n",
    "    }\n",
    "    \n",
    "    # Insert dictionary into MongoDB as a document\n",
    "    collection.insert_one(post)"
   ]
  },
  {
   "cell_type": "markdown",
   "metadata": {},
   "source": [
    "## JPL Mars Space Images\n",
    "#### Featured image from JPL's Mars programme."
   ]
  },
  {
   "cell_type": "code",
   "execution_count": 72,
   "metadata": {},
   "outputs": [],
   "source": [
    "# Using Splinter to navigate site and find image url \n",
    "executable_path = {'executable_path': 'chromedriver.exe'}\n",
    "browser = Browser('chrome', **executable_path, headless=False)\n",
    "\n",
    "browser.visit(jpl_url)"
   ]
  },
  {
   "cell_type": "code",
   "execution_count": 76,
   "metadata": {},
   "outputs": [
    {
     "name": "stdout",
     "output_type": "stream",
     "text": [
      "Featured Image: <article alt=\"Ancient Light Deflected\" class=\"carousel_item\" style=\"background-image: url('/spaceimages/images/wallpaper/PIA17448-1920x1200.jpg');\">\n",
      "<div class=\"default floating_text_area ms-layer\">\n",
      "<h2 class=\"category_title\">\n",
      "</h2>\n",
      "<h2 class=\"brand_title\">\n",
      "\t\t\t\t  FEATURED IMAGE\n",
      "\t\t\t\t</h2>\n",
      "<h1 class=\"media_feature_title\">\n",
      "\t\t\t\t  Ancient Light Deflected\t\t\t\t</h1>\n",
      "<div class=\"description\">\n",
      "</div>\n",
      "<footer>\n",
      "<a class=\"button fancybox\" data-description=\"This artist's impression shows how photons from the early universe are deflected by the gravitational lensing effect of massive cosmic structures as they travel across the universe.\" data-fancybox-group=\"images\" data-fancybox-href=\"/spaceimages/images/mediumsize/PIA17448_ip.jpg\" data-link=\"/spaceimages/details.php?id=PIA17448\" data-title=\"Ancient Light Deflected\" id=\"full_image\">\n",
      "\t\t\t\t\tFULL IMAGE\n",
      "\t\t\t\t  </a>\n",
      "</footer>\n",
      "</div>\n",
      "<div class=\"gradient_container_top\"></div>\n",
      "<div class=\"gradient_container_bottom\"></div>\n",
      "</article>\n"
     ]
    }
   ],
   "source": [
    "html = browser.html\n",
    "images = jpl_soup.find_all('article', class_='carousel_item')\n",
    "    \n",
    "for image in images:\n",
    "    print('Featured Image:', image)"
   ]
  },
  {
   "cell_type": "markdown",
   "metadata": {},
   "source": [
    "## Mars Weather\n",
    "#### Mars weather report tweet from Mars Weather twitter account."
   ]
  },
  {
   "cell_type": "code",
   "execution_count": null,
   "metadata": {},
   "outputs": [],
   "source": []
  }
 ],
 "metadata": {
  "kernelspec": {
   "display_name": "Python 3",
   "language": "python",
   "name": "python3"
  },
  "language_info": {
   "codemirror_mode": {
    "name": "ipython",
    "version": 3
   },
   "file_extension": ".py",
   "mimetype": "text/x-python",
   "name": "python",
   "nbconvert_exporter": "python",
   "pygments_lexer": "ipython3",
   "version": "3.7.3"
  }
 },
 "nbformat": 4,
 "nbformat_minor": 4
}
